{
 "cells": [
  {
   "cell_type": "markdown",
   "metadata": {},
   "source": [
    "# Bullet Graph Creation Tutorial"
   ]
  },
  {
   "cell_type": "markdown",
   "metadata": {},
   "source": [
    "The purpose of this tutorial is to demonstrate a visualization technique (bullet graph) using matplotlib and Plotly. "
   ]
  },
  {
   "cell_type": "markdown",
   "metadata": {},
   "source": [
    "## Bullet Graphs"
   ]
  },
  {
   "cell_type": "markdown",
   "metadata": {},
   "source": [
    "Bullet graphs are commonly used to showcase performance/progress data commonly found in dashboards. They are sometimes preferred over the traditional data because bullet graphs show straightforward progress and performance data without the normal clutter of various charts, colors, and buttons that dashboards commonly have. \n",
    "\n",
    "Bullet graphs are traditional horizontal bar graphs with added elements, such as the **feature measure** and **comparative measure**, for a more contextual graph. The ‘feature measure’ refers to current progress/performance data, or in other words, how what an organizations number currently are. The ‘comparative measure’ is the target goal marker that shows where the goal is. This graph is also separated by limits (or ranges) to further contextualize progress and milestones.\n",
    "\n",
    "These graphs are great for marketing and strategic planning, as well as comparing progress and results. For more information regarding bullet graphs, you can follow this link: https://datavizcatalogue.com/methods/bullet_graph.html. "
   ]
  }
 ],
 "metadata": {
  "kernelspec": {
   "display_name": "Python 3",
   "language": "python",
   "name": "python3"
  },
  "language_info": {
   "codemirror_mode": {
    "name": "ipython",
    "version": 3
   },
   "file_extension": ".py",
   "mimetype": "text/x-python",
   "name": "python",
   "nbconvert_exporter": "python",
   "pygments_lexer": "ipython3",
   "version": "3.8.5"
  }
 },
 "nbformat": 4,
 "nbformat_minor": 4
}
